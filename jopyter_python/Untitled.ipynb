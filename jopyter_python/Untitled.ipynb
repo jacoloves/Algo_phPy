{
 "cells": [
  {
   "cell_type": "code",
   "execution_count": 1,
   "id": "f6a453fd",
   "metadata": {},
   "outputs": [
    {
     "name": "stdout",
     "output_type": "stream",
     "text": [
      "asd\n",
      "asd\n"
     ]
    }
   ],
   "source": [
    "a = input()\n",
    "print(a)"
   ]
  },
  {
   "cell_type": "code",
   "execution_count": 7,
   "id": "8b5e9c16",
   "metadata": {},
   "outputs": [
    {
     "name": "stdout",
     "output_type": "stream",
     "text": [
      "aab\n",
      "aba\n"
     ]
    }
   ],
   "source": [
    "a = input()\n",
    "num = 1\n",
    "tmp_a = ''\n",
    "ans = ''\n",
    "for v in a:\n",
    "    if num == 1:\n",
    "        tmp_a = v\n",
    "    else:\n",
    "        ans += v\n",
    "    num += 1\n",
    "    \n",
    "ans += tmp_a\n",
    "print(ans)"
   ]
  },
  {
   "cell_type": "code",
   "execution_count": 12,
   "id": "d67e5704",
   "metadata": {},
   "outputs": [
    {
     "name": "stdout",
     "output_type": "stream",
     "text": [
      "4 4 2 2\n",
      "##..\n",
      "...#\n",
      "#.#.\n",
      ".#.#\n",
      "['##..', '...#', '#.#.', '.#.#']\n"
     ]
    }
   ],
   "source": [
    "a,b,c,d=(int(x) for x in input().split())\n",
    "list_a = list()\n",
    "for _ in range(a):\n",
    "    str = input()\n",
    "    list_a.append(str)\n",
    "    \n",
    "print(list_a)"
   ]
  },
  {
   "cell_type": "code",
   "execution_count": null,
   "id": "8f35a431",
   "metadata": {},
   "outputs": [],
   "source": []
  }
 ],
 "metadata": {
  "kernelspec": {
   "display_name": "Python 3",
   "language": "python",
   "name": "python3"
  },
  "language_info": {
   "codemirror_mode": {
    "name": "ipython",
    "version": 3
   },
   "file_extension": ".py",
   "mimetype": "text/x-python",
   "name": "python",
   "nbconvert_exporter": "python",
   "pygments_lexer": "ipython3",
   "version": "3.8.0"
  }
 },
 "nbformat": 4,
 "nbformat_minor": 5
}
